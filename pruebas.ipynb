{
 "cells": [
  {
   "cell_type": "code",
   "execution_count": 1,
   "metadata": {},
   "outputs": [],
   "source": [
    "from main import *"
   ]
  },
  {
   "cell_type": "code",
   "execution_count": 2,
   "metadata": {},
   "outputs": [
    {
     "data": {
      "text/plain": [
       "[[0, 0, 0, 0, 0, 1, 0, 0, 0, 0, 0],\n",
       " [0, 0, 0, 0, 1, 0, 1, 0, 0, 0, 0],\n",
       " [0, 0, 0, 1, 0, 2, 0, 1, 0, 0, 0],\n",
       " [0, 0, 1, 0, 3, 0, 3, 0, 1, 0, 0],\n",
       " [0, 1, 0, 4, 0, 6, 0, 4, 0, 1, 0],\n",
       " [0, 0, 5, 0, 10, 0, 10, 0, 5, 0, 0]]"
      ]
     },
     "execution_count": 2,
     "metadata": {},
     "output_type": "execute_result"
    }
   ],
   "source": [
    "m=[[0 for i in range(11)] for j in range(6)]\n",
    "m[0][5]=1\n",
    "\n",
    "for i in range(1,6):\n",
    "    for j in range(1,10):\n",
    "        m[i][j]= m[i-1][j-1]+ m[i-1][j+1] \n",
    "m"
   ]
  },
  {
   "cell_type": "code",
   "execution_count": 8,
   "metadata": {},
   "outputs": [
    {
     "name": "stdout",
     "output_type": "stream",
     "text": [
      "-1-1-0-0-0-0-0-0-0-0\n",
      "-1-1-0-0-0-0-0-0-0-0\n",
      "-1-2-1-0-0-0-0-0-0-0\n",
      "-1-3-3-1-0-0-0-0-0-0\n",
      "-1-4-6-4-1-0-0-0-0-0\n",
      "-1-5-10-10-5-1-0-0-0-0\n",
      "-1-6-15-20-15-6-1-0-0-0\n",
      "-1-7-21-35-35-21-7-1-0-0\n",
      "-1-8-28-56-70-56-28-8-1-0\n",
      "-1-9-36-84-126-126-84-36-9-1\n"
     ]
    }
   ],
   "source": [
    "n=2\n",
    "l=5\n",
    "for i in range(10):\n",
    "    texto=\"\"\n",
    "    for j in range(10):\n",
    "        texto+='-'+str(combinatoria(i,j))\n",
    "    print(texto)"
   ]
  },
  {
   "cell_type": "code",
   "execution_count": 5,
   "metadata": {},
   "outputs": [
    {
     "name": "stdout",
     "output_type": "stream",
     "text": [
      "-1-1-1-1-1-1-1-1-1-1\n",
      "-1-1-2-3-4-5-6-7-8-9\n",
      "-0-0-1-3-6-10-15-21-28-36\n",
      "-0-0-0-1-4-10-20-35-56-84\n",
      "-0-0-0-0-1-5-15-35-70-126\n",
      "-0-0-0-0-0-1-6-21-56-126\n",
      "-0-0-0-0-0-0-1-7-28-84\n",
      "-0-0-0-0-0-0-0-1-8-36\n",
      "-0-0-0-0-0-0-0-0-1-9\n",
      "-0-0-0-0-0-0-0-0-0-1\n"
     ]
    }
   ],
   "source": [
    "for i in range(10):\n",
    "    texto=\"\"\n",
    "    for j in range(10):\n",
    "        texto+='-'+str(combinatoria(j,i))\n",
    "    print(texto)"
   ]
  },
  {
   "cell_type": "code",
   "execution_count": 9,
   "metadata": {},
   "outputs": [
    {
     "name": "stdout",
     "output_type": "stream",
     "text": [
      "-1-1-1-1-1-1-1-1-1-1\n",
      "-1-2-3-4-5-6-7-8-9\n",
      "-1-3-6-10-15-21-28-36\n",
      "-1-4-10-20-35-56-84\n",
      "-1-5-15-35-70-126\n",
      "-1-6-21-56-126\n",
      "-1-7-28-84\n",
      "-1-8-36\n",
      "-1-9\n",
      "-1\n"
     ]
    }
   ],
   "source": [
    "for i in range(10):\n",
    "    texto=\"\"\n",
    "    for j in range(i,10):\n",
    "        texto+='-'+str(combinatoria(j,i))\n",
    "    print(texto)"
   ]
  },
  {
   "cell_type": "code",
   "execution_count": 14,
   "metadata": {},
   "outputs": [
    {
     "name": "stdout",
     "output_type": "stream",
     "text": [
      "-1-4-10-20-35-56-84-120-165-220\n"
     ]
    }
   ],
   "source": [
    "texto=\"\"\n",
    "n=3\n",
    "l=10\n",
    "for j in range(n,l+n):\n",
    "    texto+='-'+str(combinatoria(j,n))\n",
    "print(texto)"
   ]
  },
  {
   "cell_type": "code",
   "execution_count": null,
   "metadata": {},
   "outputs": [],
   "source": []
  }
 ],
 "metadata": {
  "interpreter": {
   "hash": "a3e69277398b5188d7819bc6e650a483d2f8172570fc4d755f233d772be8872d"
  },
  "kernelspec": {
   "display_name": "Python 3.10.1 64-bit",
   "language": "python",
   "name": "python3"
  },
  "language_info": {
   "codemirror_mode": {
    "name": "ipython",
    "version": 3
   },
   "file_extension": ".py",
   "mimetype": "text/x-python",
   "name": "python",
   "nbconvert_exporter": "python",
   "pygments_lexer": "ipython3",
   "version": "3.7.6"
  },
  "orig_nbformat": 4
 },
 "nbformat": 4,
 "nbformat_minor": 2
}
